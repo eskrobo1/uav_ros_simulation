{
  "nbformat": 4,
  "nbformat_minor": 0,
  "metadata": {
    "colab": {
      "provenance": [],
      "authorship_tag": "ABX9TyPRQkvA0Gym9w4j22WXOm++",
      "include_colab_link": true
    },
    "kernelspec": {
      "name": "python3",
      "display_name": "Python 3"
    },
    "language_info": {
      "name": "python"
    }
  },
  "cells": [
    {
      "cell_type": "markdown",
      "metadata": {
        "id": "view-in-github",
        "colab_type": "text"
      },
      "source": [
        "<a href=\"https://colab.research.google.com/github/eskrobo1/uav_ros_simulation/blob/main/zuees_sem.ipynb\" target=\"_parent\"><img src=\"https://colab.research.google.com/assets/colab-badge.svg\" alt=\"Open In Colab\"/></a>"
      ]
    },
    {
      "cell_type": "code",
      "execution_count": 1,
      "metadata": {
        "colab": {
          "base_uri": "https://localhost:8080/"
        },
        "id": "hh97eck6krRz",
        "outputId": "4e1310d9-0292-44d5-8aef-72f9565a5598"
      },
      "outputs": [
        {
          "output_type": "stream",
          "name": "stdout",
          "text": [
            "Cloning into 'zuees_seminarski'...\n",
            "remote: Enumerating objects: 38, done.\u001b[K\n",
            "remote: Counting objects: 100% (38/38), done.\u001b[K\n",
            "remote: Compressing objects: 100% (37/37), done.\u001b[K\n",
            "remote: Total 38 (delta 0), reused 38 (delta 0), pack-reused 0 (from 0)\u001b[K\n",
            "Receiving objects: 100% (38/38), 11.11 MiB | 22.75 MiB/s, done.\n"
          ]
        }
      ],
      "source": [
        "!git clone https://github.com/eskrobo1/zuees_seminarski"
      ]
    },
    {
      "cell_type": "code",
      "source": [
        "%cd zuees_seminarski/"
      ],
      "metadata": {
        "colab": {
          "base_uri": "https://localhost:8080/"
        },
        "id": "ECendi48l_Z-",
        "outputId": "a98652ba-d0ef-4ef0-84e8-19b95f76f81a"
      },
      "execution_count": 2,
      "outputs": [
        {
          "output_type": "stream",
          "name": "stdout",
          "text": [
            "/content/zuees_seminarski\n"
          ]
        }
      ]
    },
    {
      "cell_type": "code",
      "source": [
        "!ls -R"
      ],
      "metadata": {
        "colab": {
          "base_uri": "https://localhost:8080/"
        },
        "id": "YpOQr9o_mJ_J",
        "outputId": "b68fbb8a-dbc5-4f4b-c9a8-ecaa80d897a1"
      },
      "execution_count": 3,
      "outputs": [
        {
          "output_type": "stream",
          "name": "stdout",
          "text": [
            ".:\n",
            "simulation_results\n",
            "\n",
            "./simulation_results:\n",
            " Z_fault_0,5_line_69_50%.txt   Z_fault_1_line_69_50%.txt\n",
            " Z_fault_1_line_45_10%.txt     Z_fault_1_line_69_70%.txt\n",
            " Z_fault_1_line_45_30%.txt     Z_fault_1_line_69_90%.txt\n",
            "'Z_fault_1_line_45_50% .txt'   Z_fault_1_line_78_10%.txt\n",
            " Z_fault_1_line_45_70%.txt     Z_fault_1_line_78_30%.txt\n",
            " Z_fault_1_line_45_90%.txt     Z_fault_1_line_78_50%.txt\n",
            " Z_fault_1_line_46_10%.txt     Z_fault_1_line_78_70%.txt\n",
            " Z_fault_1_line_46_30%.txt     Z_fault_1_line_78_90%.txt\n",
            "'Z_fault_1_line_46_50% .txt'   Z_fault_1_line_89_10%.txt\n",
            " Z_fault_1_line_46_70%.txt     Z_fault_1_line_89_30%.txt\n",
            " Z_fault_1_line_46_90%.txt     Z_fault_1_line_89_50%.txt\n",
            " Z_fault_1_line_57_10%.txt     Z_fault_1_line_89_70%.txt\n",
            " Z_fault_1_line_57_30%.txt     Z_fault_1_line_89_90%.txt\n",
            " Z_fault_1_line_57_50%.txt     Z_fault_2_line_69_50%.txt\n",
            " Z_fault_1_line_57_70%.txt     Z_fault_50_line_69_10%.txt\n",
            " Z_fault_1_line_57_90%.txt     Z_fault_50_line_69_50%.txt\n",
            " Z_fault_1_line_69_10%.txt     Z_fault_5_line_69_50%.txt\n",
            " Z_fault_1_line_69_30%.txt\n"
          ]
        }
      ]
    },
    {
      "cell_type": "code",
      "source": [
        "!python src/train.py"
      ],
      "metadata": {
        "colab": {
          "base_uri": "https://localhost:8080/"
        },
        "id": "vheoElIDmXTt",
        "outputId": "ce6e63dc-4f93-4148-efcf-0f95bbda2aa7"
      },
      "execution_count": 11,
      "outputs": [
        {
          "output_type": "stream",
          "name": "stdout",
          "text": [
            "Učitano: Z_fault_5_line_69_50%.txt, shape=(651, 46)\n",
            "Traceback (most recent call last):\n",
            "  File \"/content/zuees_seminarski/src/train.py\", line 42, in <module>\n",
            "    main()\n",
            "  File \"/content/zuees_seminarski/src/train.py\", line 10, in main\n",
            "    X, y, encoder = load_data(\"simulation_results\")\n",
            "                    ^^^^^^^^^^^^^^^^^^^^^^^^^^^^^^^\n",
            "  File \"/content/zuees_seminarski/src/data_loader.py\", line 50, in load_data\n",
            "    df = pd.read_csv(io.StringIO(raw_txt), sep=r\"\\s+\")\n",
            "         ^^^^^^^^^^^^^^^^^^^^^^^^^^^^^^^^^^^^^^^^^^^^^\n",
            "  File \"/usr/local/lib/python3.12/dist-packages/pandas/io/parsers/readers.py\", line 1026, in read_csv\n",
            "    return _read(filepath_or_buffer, kwds)\n",
            "           ^^^^^^^^^^^^^^^^^^^^^^^^^^^^^^^\n",
            "  File \"/usr/local/lib/python3.12/dist-packages/pandas/io/parsers/readers.py\", line 626, in _read\n",
            "    return parser.read(nrows)\n",
            "           ^^^^^^^^^^^^^^^^^^\n",
            "  File \"/usr/local/lib/python3.12/dist-packages/pandas/io/parsers/readers.py\", line 1923, in read\n",
            "    ) = self._engine.read(  # type: ignore[attr-defined]\n",
            "        ^^^^^^^^^^^^^^^^^^^^^^^^^^^^^^^^^^^^^^^^^^^^^^^^\n",
            "  File \"/usr/local/lib/python3.12/dist-packages/pandas/io/parsers/c_parser_wrapper.py\", line 234, in read\n",
            "    chunks = self._reader.read_low_memory(nrows)\n",
            "             ^^^^^^^^^^^^^^^^^^^^^^^^^^^^^^^^^^^\n",
            "  File \"parsers.pyx\", line 838, in pandas._libs.parsers.TextReader.read_low_memory\n",
            "  File \"parsers.pyx\", line 905, in pandas._libs.parsers.TextReader._read_rows\n",
            "  File \"parsers.pyx\", line 874, in pandas._libs.parsers.TextReader._tokenize_rows\n",
            "  File \"parsers.pyx\", line 891, in pandas._libs.parsers.TextReader._check_tokenize_status\n",
            "  File \"parsers.pyx\", line 2061, in pandas._libs.parsers.raise_parser_error\n",
            "pandas.errors.ParserError: Error tokenizing data. C error: Expected 46 fields in line 403, saw 48\n",
            "\n"
          ]
        }
      ]
    },
    {
      "cell_type": "code",
      "source": [
        "!python src/train.py"
      ],
      "metadata": {
        "colab": {
          "base_uri": "https://localhost:8080/"
        },
        "id": "fmCcwk5pq6GA",
        "outputId": "3118967a-f27b-4078-b0a8-bd433e4befb5"
      },
      "execution_count": 6,
      "outputs": [
        {
          "output_type": "stream",
          "name": "stdout",
          "text": [
            "/content/zuees_seminarski/src/data_loader.py:13: SyntaxWarning: invalid escape sequence '\\s'\n",
            "  sep=\"\\s+\",\n",
            "Kolone u DF-u: ['----------------------------------------------------------------------------------------------------']\n",
            "Traceback (most recent call last):\n",
            "  File \"/content/zuees_seminarski/src/train.py\", line 64, in <module>\n",
            "    main()\n",
            "  File \"/content/zuees_seminarski/src/train.py\", line 12, in main\n",
            "    X, y = load_data()\n",
            "           ^^^^^^^^^^^\n",
            "  File \"/content/zuees_seminarski/src/data_loader.py\", line 21, in load_data\n",
            "    features = df.drop(columns=[\"t[s]\"]).values.flatten()\n",
            "               ^^^^^^^^^^^^^^^^^^^^^^^^^\n",
            "  File \"/usr/local/lib/python3.12/dist-packages/pandas/core/frame.py\", line 5581, in drop\n",
            "    return super().drop(\n",
            "           ^^^^^^^^^^^^^\n",
            "  File \"/usr/local/lib/python3.12/dist-packages/pandas/core/generic.py\", line 4788, in drop\n",
            "    obj = obj._drop_axis(labels, axis, level=level, errors=errors)\n",
            "          ^^^^^^^^^^^^^^^^^^^^^^^^^^^^^^^^^^^^^^^^^^^^^^^^^^^^^^^^\n",
            "  File \"/usr/local/lib/python3.12/dist-packages/pandas/core/generic.py\", line 4830, in _drop_axis\n",
            "    new_axis = axis.drop(labels, errors=errors)\n",
            "               ^^^^^^^^^^^^^^^^^^^^^^^^^^^^^^^^\n",
            "  File \"/usr/local/lib/python3.12/dist-packages/pandas/core/indexes/base.py\", line 7070, in drop\n",
            "    raise KeyError(f\"{labels[mask].tolist()} not found in axis\")\n",
            "KeyError: \"['t[s]'] not found in axis\"\n"
          ]
        }
      ]
    }
  ]
}